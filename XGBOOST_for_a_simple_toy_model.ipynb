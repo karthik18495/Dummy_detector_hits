{
  "nbformat": 4,
  "nbformat_minor": 0,
  "metadata": {
    "colab": {
      "name": "XGBOOST for a simple toy model ",
      "version": "0.3.2",
      "provenance": [],
      "collapsed_sections": [],
      "include_colab_link": true
    },
    "kernelspec": {
      "name": "python3",
      "display_name": "Python 3"
    }
  },
  "cells": [
    {
      "cell_type": "markdown",
      "metadata": {
        "id": "view-in-github",
        "colab_type": "text"
      },
      "source": [
        "<a href=\"https://colab.research.google.com/github/karthik18495/sample/blob/master/XGBOOST_for_a_simple_toy_model.ipynb\" target=\"_parent\"><img src=\"https://colab.research.google.com/assets/colab-badge.svg\" alt=\"Open In Colab\"/></a>"
      ]
    },
    {
      "cell_type": "markdown",
      "metadata": {
        "id": "K8tIChusiGVs",
        "colab_type": "text"
      },
      "source": [
        "#Here is a toy model that is developed to illustrate the idea on how to clusterize using XGBoost. This might give a analogy to the actual objective\n",
        "\n",
        "\n",
        "\n",
        "##Objective Question\n",
        "\n",
        "To clusterize a shower from a noisy image. Look below for the example.\n",
        "\n",
        "* First we take a clean image and then add random noise to it.\n",
        "* Make the maximum intensity point as a seed and then start looking into all the pixel\n",
        "* now we take every pixel in the image and compare it with various features namely\n",
        "* PIXEL_VALUE, Distance_from_the_seed,del_x,del_y,energy_difference between it and the seed.\n",
        "* Make a binary classifer which will return 1 if the pixel belongs to the cluster 0 if it doesnt."
      ]
    },
    {
      "cell_type": "markdown",
      "metadata": {
        "id": "ybsAdtcS2aZw",
        "colab_type": "text"
      },
      "source": [
        "#Function explanations:\n",
        "## fill_matrix(int num_shower)\n",
        "* Generates a image with blobs (circular for now can be changed to ellipsoidal) \n",
        "* It takes one argument, the number of showers to generate. \n",
        "* returns a matrix (2d_array)\n",
        "### Procedure for generation of blobs \n",
        "* choose 2 random numbers between 5 and 20 (thats what the function random_number does). This is the seed to start creating the blob.\n",
        "* Choose a random radius for the blob (a random number between 3 to 10)\n",
        "* Now populate the nearbouring pixel within the radius defined by the variable `radius` in the code.\n",
        "* The pixel values follows a simple 2d-gaussian function in space centred at the seed and with a spread equal to the variable `radius`.\n",
        ".\n",
        "* if the argument to the fill_matrix no of showes is greater than 1 then, generate another seed which is atleast 5 pixel away from the first one, and then repeat the procedure again\n",
        "## add_Noise(2d_array image)\n",
        "* Takes a 2d_array as an argument, it adds random noises to the image.\n",
        "* It randomly adds a number from 0 to 50 (1/3 of the maximum value to the seed) to every pixel in the image.\n",
        "* returns a 2d_array with noise hits\n",
        "\n",
        "## feature_extraction(2d_array image,2d_array image_noisy) (currently not used)\n",
        "* It takes in 2 parameters both being a 2d array one which is the image without adding noise the other one which is noisy. \n",
        "* It first NORMALISES the image by a simple division of maximum pixel value.It records the maximum pixel value, the location of the maximum pixel value.\n",
        "* It runs through every pixel in the image and pulls out a couple of features. Currently it pulls out the pixel value at that pixel the difference in the pixel value, the radial distance between the pixel and the seed pixel, difference in the x and y direction of the pixel and the seed energy.\n",
        "* there are a total of the 5 features that will get returned, There will be a dicussion in this document later as to some extra features that will be added \n",
        "\n",
        "## data_gen(int sample_size,int number_showers)\n",
        "* it takes in total number of samples you want to generate and the number of showers in the image.\n",
        "* it does the same as feature extraction \n",
        "* It also returns another list y_output which is a list of binaries (0 or 1) it returns 1 if the pixel is a part of the cluster or 0 if thepixel is not a part of the cluster.\n",
        "* It returns 4 sets of lists. One the feature set which has the features of the each pixel in the image and then their corresonding binary output which says 1 or 0. a list which has pure images and a list which has noisy image.\n"
      ]
    },
    {
      "cell_type": "markdown",
      "metadata": {
        "id": "GFXbjPRPZk_6",
        "colab_type": "text"
      },
      "source": [
        "The Above picture is a noisy representation of one cluster. We need to pick out first number of clusters from this image. But how? One way to do it is through a houghs transform and pickout ellipses from here, for actual detector hits we can use complex hough transform methods to pick out rough shapes and then make a seed for every cluster and perform a multiclass classification using BDT.\n",
        "\n",
        "\n",
        " Below is a classifer that will take in pixel by pixel of a image and returns 1 if it is a part of the cluster or 0 if it is not\n",
        " \n",
        " \n",
        " ### Feature sets for the points \n",
        " * Pixel value -> E \n",
        " * Difference between the pixel value and seed value ->del_E\n",
        " * radial distance between seed pixel and the current pixel->del_r\n",
        " * difference in x between seed pixel and current pixel->del_x\n",
        " * difference in y between seed pixel and current pixel->del_y\n",
        " * ratio of energy neighbouring cell and the seed_E\n",
        " \n",
        " ### Possible feature variables\n",
        "  * Still Working on this"
      ]
    },
    {
      "cell_type": "code",
      "metadata": {
        "id": "inkNyu_t2B8x",
        "colab_type": "code",
        "outputId": "92c16b3e-1ea0-481a-d82a-c75ed86652bf",
        "colab": {
          "base_uri": "https://localhost:8080/",
          "height": 1000
        }
      },
      "source": [
        "import matplotlib.pyplot as plt\n",
        "import numpy as np\n",
        "import random as rand\n",
        "import math\n",
        "from keras.models import Sequential\n",
        "\n",
        "def random_number():\n",
        "    seed_i = rand.randint(5,20)\n",
        "    seed_j = rand.randint(5,20)\n",
        "    return seed_i,seed_j\n",
        "\n",
        "def fill_matrix(shower_size):# this will create an image (25X25) and fill it with blobs. Number of blobs are given as an argument \n",
        "    seed_i_l = []\n",
        "    seed_j_l = []\n",
        "    random = rand.randint(0,3)\n",
        "    #print(random)\n",
        "    m = np.zeros((25,25),dtype=float)\n",
        "    for k in range(1,shower_size+1):\n",
        "        seed_i = rand.randint(5,20)\n",
        "        seed_j = rand.randint(5,20)\n",
        "        radius = rand.randint(3,10)\n",
        "        seed_i_l.append(seed_i)\n",
        "        seed_j_l.append(seed_j)\n",
        "        if(k>1):\n",
        "            count = 1\n",
        "            while(abs(seed_i_l[count]-seed_i_l[count-1])<10 and abs(seed_j_l[count]-seed_j_l[count-1])<10):\n",
        "                print(\"processing.........\")\n",
        "                count+=1\n",
        "                seed_i,seed_j = random_number()  \n",
        "                seed_i_l.append(seed_i)\n",
        "                seed_j_l.append(seed_j)\n",
        "        seed_E1 = 15*rand.randint(10,15)\n",
        "        for i in range(-1*radius,radius):\n",
        "            for j in range(-1*radius,radius):\n",
        "                placei_low = seed_i-radius\n",
        "                placei_high = seed_i+radius\n",
        "                placej_low = seed_j-radius\n",
        "                placej_high = seed_j+radius\n",
        "                if((seed_i-i)>0 and (seed_i-i)<25 and (seed_j-j)>0 and (seed_j-j)<25):\n",
        "                    m[seed_i-i][seed_j-j]+=seed_E1*(np.exp(-0.5*(i)**2/radius-0.5*(j)**2/radius))#pixel values are determined by this formula, a simple gaussian profile for now\n",
        "                    if(k>10):\n",
        "                        #m[placei][placej]=15*(radius-(seed_i-i)**2-(seed_j-j)**2)**2\n",
        "                        m[seed_i-i][seed_j-j]+=rand.gauss(seed_E1/10,seed_E1/20)\n",
        "                    #mean=m[seed_i-i][seed_j-j]\n",
        "                    #m[seed_i-i][seed_j-j]+=rand.gauss(30,30/2)\n",
        "    return m\n",
        "\n",
        "  \n",
        "def add_Noise(matrix):\n",
        "  matrix1 = matrix\n",
        "  for i in range(len(matrix1)):\n",
        "    for j in range(len(matrix1[i])):\n",
        "         matrix1[i][j]+= rand.randrange(0,15)\n",
        "  return matrix1\n",
        "\n",
        "def feature_extraction(matrix,matrix_noise):\n",
        "  alist=[]\n",
        "  #y_output=[]\n",
        "  #matrix = matrix/np.max(matrix)\n",
        "  matrix_noise1 = matrix_noise1/np.max(matrix_noise1)\n",
        "  seed_E = 1\n",
        "  seed_x,seed_y = np.where(matrix_noise1==1)\n",
        "  seed_x = int(seed_x)\n",
        "  seed_y = int(seed_y)\n",
        "  for i in range(len(matrix_noise)):\n",
        "    for j in range(len(matrix_noise[i])):\n",
        "      pos_i = i\n",
        "      pos_j = j\n",
        "      E = matrix_noise1[i][j]\n",
        "      del_x = abs(i-seed_x)\n",
        "      del_y = abs(j-seed_y)\n",
        "      del_r = math.sqrt((i-seed_x)**2+(j-seed_y)**2)\n",
        "      del_E = abs(matrix_noise[i][j]-seed_E)\n",
        "      feature.append([pos_i,pos_j,E,del_x,del_y,del_r,del_E])\n",
        "   #   if(matrix[i][j]<=5):\n",
        "   #     output=0\n",
        "   #   if(matrix[i][j]>5):\n",
        "   #     output=1\n",
        "   #   y_output.append(output)\n",
        "  return alist\n",
        "\n",
        "\n",
        "\n",
        "sample_size = 5\n",
        "def data_gen(sample_size,number_showers):\n",
        "  y_output = []\n",
        "  feature = []\n",
        "  pure_image = []\n",
        "  image_with_noise = []\n",
        "  for size in range(0,sample_size):\n",
        "    im = fill_matrix(number_showers)\n",
        "    if(size==1):\n",
        "      plt.imshow(im,origin='lower')\n",
        "      plt.colorbar()\n",
        "      plt.show()\n",
        "    image1=im\n",
        "    pure_image.append(im)\n",
        "    #plt.imshow(im,origin='lower')\n",
        "    #plt.show()\n",
        "    temp_max = np.max(image1)\n",
        "    for i in range(len(im)):\n",
        "      for j in range(len(im[i])):\n",
        "        if(im[i][j]<=temp_max/10): # I am having a threshold now which is about 1/10 the maximum pixel \n",
        "          o=0\n",
        "        if(im[i][j]>temp_max/10):\n",
        "          o=1\n",
        "        y_output.append(o)\n",
        "    image_noise = add_Noise(image1)\n",
        "    if(size==1):\n",
        "      plt.imshow(image_noise,origin='lower')\n",
        "      plt.colorbar()\n",
        "      plt.show()\n",
        "    image_with_noise.append(image_noise)\n",
        "    #matrix_noise = image_noise/np.max(image_noise)\n",
        "    matrix_noise = image_noise\n",
        "    seed_E = np.max(matrix_noise)\n",
        "    seed_x,seed_y = np.where(matrix_noise==seed_E)\n",
        "    seed_x=int(seed_x)\n",
        "    seed_y=int(seed_y)\n",
        "    for i in range(len(matrix_noise)):\n",
        "      for j in range(len(matrix_noise[i])):\n",
        "        E=abs(matrix_noise[i][j]-seed_E)\n",
        "        del_x = abs(i-seed_x)\n",
        "        del_y = abs(j-seed_y)\n",
        "        del_r = math.sqrt((i-seed_x)**2+(j-seed_y)**2)\n",
        "        del_E = abs((matrix_noise[i][j]-seed_E)/(matrix_noise[i][j]+seed_E))\n",
        "        ratio=0\n",
        "        if(i+1<len(matrix_noise) and i > 0):\n",
        "          ratio+= matrix_noise[i+1][j] + matrix_noise[i-1][j]\n",
        "        if(j+1<len(matrix_noise[i]) and j > 0):\n",
        "          ratio+= matrix_noise[i][j+1] + matrix_noise[i][j-1]\n",
        "        if(i>0 and j>0 and i+1<len(matrix_noise) and j+1<len(matrix_noise[i])):\n",
        "          ratio+=matrix_noise[i+1][j+1]+matrix_noise[i-1][j-1]\n",
        "        ratio=ratio/seed_E\n",
        "        feature.append([E,del_x,del_y,del_r,del_E,ratio])\n",
        "  #features = np.array(feature)\n",
        "  #y_outputs = np.array(y_output)\n",
        "  return feature,y_output,pure_image,image_with_noise\n",
        "  #plt.imshow(image_noise,origin='lower')\n",
        "  #plt.show()\n",
        "x_train1,y_train1,train_pure_image,train_noise_image = data_gen(100,1)\n",
        "x_test1,y_test1,test_image,test_noise_image = data_gen(10,1)"
      ],
      "execution_count": 4,
      "outputs": [
        {
          "output_type": "display_data",
          "data": {
            "image/png": "[encoded data removed]",
            "text/plain": [
              "<Figure size 432x288 with 2 Axes>"
            ]
          },
          "metadata": {
            "tags": []
          }
        },
        {
          "output_type": "display_data",
          "data": {
            "image/png": "[encoded data removed]",
            "text/plain": [
              "<Figure size 432x288 with 2 Axes>"
            ]
          },
          "metadata": {
            "tags": []
          }
        },
        {
          "output_type": "display_data",
          "data": {
            "image/png": "[encoded data removed]",
            "text/plain": [
              "<Figure size 432x288 with 2 Axes>"
            ]
          },
          "metadata": {
            "tags": []
          }
        },
        {
          "output_type": "display_data",
          "data": {
            "image/png": "[encoded data removed]",
            "text/plain": [
              "<Figure size 432x288 with 2 Axes>"
            ]
          },
          "metadata": {
            "tags": []
          }
        }
      ]
    },
    {
      "cell_type": "code",
      "metadata": {
        "id": "gZbkhEB7OKUS",
        "colab_type": "code",
        "outputId": "bfabb083-ea55-422e-a47a-2c37e951f459",
        "colab": {
          "base_uri": "https://localhost:8080/",
          "height": 139
        }
      },
      "source": [
        "from xgboost import XGBClassifier\n",
        "import xgboost\n",
        "from sklearn.metrics import accuracy_score\n",
        "x_train = np.array(x_train1)\n",
        "y_train = np.array(y_train1)\n",
        "x_test = np.array(x_test1)\n",
        "y_test = np.array(y_test1)\n",
        "model = XGBClassifier(max_depth=8,\n",
        "                           min_child_weight=1,\n",
        "                           learning_rate=0.01,\n",
        "                           n_estimators=800,\n",
        "                           silent=True,\n",
        "                           objective='binary:logistic',\n",
        "                           gamma=0,\n",
        "                           max_delta_step=0,\n",
        "                           subsample=1,\n",
        "                           colsample_bytree=1,\n",
        "                           colsample_bylevel=1,\n",
        "                           reg_alpha=1,\n",
        "                           reg_lambda=1,\n",
        "                           seed=2,\n",
        "                           missing=None)\n",
        "\n",
        "model.fit(x_train,y_train)"
      ],
      "execution_count": 5,
      "outputs": [
        {
          "output_type": "execute_result",
          "data": {
            "text/plain": [
              "XGBClassifier(base_score=0.5, booster='gbtree', colsample_bylevel=1,\n",
              "              colsample_bynode=1, colsample_bytree=1, gamma=0,\n",
              "              learning_rate=0.01, max_delta_step=0, max_depth=8,\n",
              "              min_child_weight=1, missing=None, n_estimators=800, n_jobs=1,\n",
              "              nthread=None, objective='binary:logistic', random_state=0,\n",
              "              reg_alpha=1, reg_lambda=1, scale_pos_weight=1, seed=2,\n",
              "              silent=True, subsample=1, verbosity=1)"
            ]
          },
          "metadata": {
            "tags": []
          },
          "execution_count": 5
        }
      ]
    },
    {
      "cell_type": "markdown",
      "metadata": {
        "id": "xLXsXOPnce0H",
        "colab_type": "text"
      },
      "source": [
        "Prediction is here and we return only the energy values which has the output as 1 from the classifer"
      ]
    },
    {
      "cell_type": "code",
      "metadata": {
        "id": "f5uYHZMKx3_a",
        "colab_type": "code",
        "outputId": "9208ce2e-bf6c-49ab-953e-3edd856de8bc",
        "colab": {
          "base_uri": "https://localhost:8080/",
          "height": 1000
        }
      },
      "source": [
        "y_pred = model.predict(x_test)\n",
        "accuracy = accuracy_score(y_test, y_pred)\n",
        "print(accuracy)\n",
        "count=0\n",
        "for i in range(len(y_pred)):\n",
        "  if(i%624==0 and i<624*2):\n",
        "    plt.imshow(test_image[count],origin='lower')\n",
        "    plt.show()\n",
        "    final = np.array(y_pred[i:i+625])\n",
        "    final=final.reshape(25,25)\n",
        "    for x in range(len(final)):\n",
        "      for y in range(len(final[x])):\n",
        "        if(final[x][y]==1):\n",
        "          #final[x][y]=0\n",
        "          final[x][y]=test_noise_image[count][x][y]\n",
        "    plt.imshow(final,origin='lower')\n",
        "    plt.show()\n",
        "    count+=1\n",
        "    print(count)"
      ],
      "execution_count": 11,
      "outputs": [
        {
          "output_type": "stream",
          "text": [
            "0.99632\n"
          ],
          "name": "stdout"
        },
        {
          "output_type": "display_data",
          "data": {
            "image/png": "[encoded data removed]",
            "text/plain": [
              "<Figure size 432x288 with 1 Axes>"
            ]
          },
          "metadata": {
            "tags": []
          }
        },
        {
          "output_type": "display_data",
          "data": {
            "image/png": "[encoded data removed]",
            "text/plain": [
              "<Figure size 432x288 with 1 Axes>"
            ]
          },
          "metadata": {
            "tags": []
          }
        },
        {
          "output_type": "stream",
          "text": [
            "1\n"
          ],
          "name": "stdout"
        },
        {
          "output_type": "display_data",
          "data": {
            "image/png": "[encoded data removed]",
            "text/plain": [
              "<Figure size 432x288 with 1 Axes>"
            ]
          },
          "metadata": {
            "tags": []
          }
        },
        {
          "output_type": "display_data",
          "data": {
            "image/png": "[encoded data removed]",
            "text/plain": [
              "<Figure size 432x288 with 1 Axes>"
            ]
          },
          "metadata": {
            "tags": []
          }
        },
        {
          "output_type": "stream",
          "text": [
            "2\n"
          ],
          "name": "stdout"
        }
      ]
    },
    {
      "cell_type": "markdown",
      "metadata": {
        "id": "bVqYeRPUsHFG",
        "colab_type": "text"
      },
      "source": [
        "Training parameters are poor and the booster can be changed, DART booster to drop some of the trees. This is because there are more 0 when compared to 1. \n",
        "\n",
        "\n",
        "Next is when we have more than 1 cluster we can try for a multi-class classification with getting \n",
        "\n",
        "Idea 1 \n",
        "* We can Use the BDT to form a clusterizer.\n",
        "* This is a semi-automated work we can do in clusterising\n",
        "* Generate photon shower (make sure there is only 1 shower ) along with dark Hits and Random bkg. Loo"
      ]
    },
    {
      "cell_type": "markdown",
      "metadata": {
        "id": "bxBXNFEUbIdq",
        "colab_type": "text"
      },
      "source": [
        "# Modelling a dummy event in the BCAL, One step closer to real model\n",
        "* Below is a simple model on how a clean  shower will look like in one of the modules in the bcal. "
      ]
    },
    {
      "cell_type": "markdown",
      "metadata": {
        "id": "PfBkLMPUoF7_",
        "colab_type": "text"
      },
      "source": [
        "trying to generate fully contained events in the BCAL"
      ]
    },
    {
      "cell_type": "code",
      "metadata": {
        "id": "knbIWQqhdyn4",
        "colab_type": "code",
        "outputId": "d2299d04-779f-4600-c4fe-8e0b5d39ddf2",
        "colab": {
          "base_uri": "https://localhost:8080/",
          "height": 797
        }
      },
      "source": [
        "import numpy as np\n",
        "import matplotlib.pyplot as plt\n",
        "import random as rand\n",
        "import math\n",
        "from skimage import feature\n",
        "\n",
        "\n",
        "def par_gen():  # generates slope and intercept which \n",
        "  slope = rand.uniform(0,10)\n",
        "  intercept = rand.randrange(0,400)\n",
        "  final_hit = slope*9+intercept\n",
        "  distance = math.sqrt((13*9)**2+final_hit**2)\n",
        "  return final_hit,distance,slope,intercept\n",
        "\n",
        "def event_gen(number_showers,Energy):\n",
        "  bcal_r_z = np.zeros((10,400))\n",
        "  final_hit=500\n",
        "  distance=0\n",
        "  while((final_hit>399 or final_hit<0)and(distance<13*9 or distance>415)):\n",
        "    final_hit,distance,slope,intercept=par_gen()\n",
        "  for i in range(len(bcal_r_z)):\n",
        "    y = slope*i+intercept\n",
        "    y=round(y)\n",
        "    #y = int(y)\n",
        "    bcal_r_z[i][y] = Energy*np.exp(-0.25*i) # This is how dE/dr of a photonic shower is modelled\n",
        "    #print(y,i)\n",
        "  return bcal_r_z\n",
        "\n",
        "\n",
        "bcal = event_gen(1,15000)\n",
        "plt.imshow(bcal,origin='lower',aspect=20)\n",
        "plt.show()\n",
        "\n",
        "def max_E_row(bcal_matrix):\n",
        "  seed_E = np.max(bcal_matrix)\n",
        "  return seed_E\n",
        "\n",
        "def random_radius(min_size,max_size):\n",
        "  rand_radius = rand.randrange(min_size,max_size)\n",
        "  return rand_radius\n",
        "\n",
        "\n",
        "def smear(bcal_matrix):\n",
        "  temp_radius = random_radius(10,40)\n",
        "  shift = rand.randint(temp_radius,temp_radius+5)\n",
        "  #print(\"temp_radius\",temp_radius)\n",
        "  for i in range(len(bcal_matrix)):\n",
        "    #temp_radius+=abs(i-10)\n",
        "    seed_E = np.max(bcal_matrix[i])\n",
        "    #print(\"Max energy\",seed_E)\n",
        "    y, = np.where(bcal_matrix[i]==seed_E)\n",
        "    y = int(y)\n",
        "    #y-=i*shift\n",
        "    #print(y)\n",
        "    left = y-temp_radius\n",
        "    right = y+temp_radius\n",
        "    for rad in range(left,right):\n",
        "      #left = y+rad\n",
        "      #right = y+rad\n",
        "      if(rad>=0 and rad<len(bcal_matrix[i])):\n",
        "        bcal_matrix[i][rad]=seed_E*np.exp(-0.5*(rad-y)**2/(temp_radius/2)**2) # this is how dE/dz of a photonic shower is modelled.\n",
        "        bcal_matrix[i][rad]+=rand.gauss(bcal_matrix[i][rad],bcal_matrix[i][rad]/5)\n",
        "  return bcal_matrix\n",
        "\n",
        "\n",
        "bcal_smeared = smear(bcal)\n",
        "plt.imshow(bcal_smeared,origin='lower',aspect=20)\n",
        "plt.show()\n",
        "\n",
        "\n",
        "def add_Noise_bcal(bcal_smeared):\n",
        "  for i in range(len(bcal_smeared)):\n",
        "    maxi = rand.randint(5,15)\n",
        "    for s in range(0,maxi):\n",
        "      j = rand.randint(0,400)\n",
        "      seed_E = max_E_row(bcal_smeared[i])\n",
        "      bcal_smeared[i][j]+=seed_E*rand.random()/5\n",
        "  return bcal_smeared\n",
        "\n",
        "bcal_noise = add_Noise_bcal(bcal_smeared)\n",
        "plt.imshow(bcal_noise,origin='lower',aspect=20)\n",
        "plt.colorbar()\n",
        "plt.show()  \n",
        "\n",
        "\n",
        "def combine_to_layer(bcal_noise):\n",
        "  bcal_combined_layers = np.zeros((4,400))\n",
        "  for i in range(len(bcal_noise)):\n",
        "    if(i==0):\n",
        "      bcal_combined_layers[0]+=bcal_noise[i]\n",
        "    if(i>0 and i<3):\n",
        "      bcal_combined_layers[1]+=bcal_noise[i]\n",
        "    if(i>=3 and i<6):\n",
        "      bcal_combined_layers[2]+=bcal_noise[i]\n",
        "    if(i>=6 and i<10):\n",
        "      bcal_combined_layers[3]+=bcal_noise[i]\n",
        "  return bcal_combined_layers\n",
        "\n",
        "bcal_final_layers = combine_to_layer(bcal_noise)\n",
        "plt.imshow(bcal_final_layers,origin='lower',aspect=30)\n",
        "plt.show()"
      ],
      "execution_count": 0,
      "outputs": [
        {
          "output_type": "display_data",
          "data": {
            "image/png": "[encoded data removed]",
            "text/plain": [
              "<Figure size 432x288 with 1 Axes>"
            ]
          },
          "metadata": {
            "tags": []
          }
        },
        {
          "output_type": "display_data",
          "data": {
            "image/png": "[encoded data removed]",
            "text/plain": [
              "<Figure size 432x288 with 1 Axes>"
            ]
          },
          "metadata": {
            "tags": []
          }
        },
        {
          "output_type": "display_data",
          "data": {
            "image/png": "[encoded data removed]",
            "text/plain": [
              "<Figure size 432x288 with 2 Axes>"
            ]
          },
          "metadata": {
            "tags": []
          }
        },
        {
          "output_type": "display_data",
          "data": {
            "image/png": "[encoded data removed]",
            "text/plain": [
              "<Figure size 432x288 with 1 Axes>"
            ]
          },
          "metadata": {
            "tags": []
          }
        }
      ]
    },
    {
      "cell_type": "code",
      "metadata": {
        "id": "YWMMO8xhdzw4",
        "colab_type": "code",
        "colab": {}
      },
      "source": [
        ""
      ],
      "execution_count": 0,
      "outputs": []
    },
    {
      "cell_type": "code",
      "metadata": {
        "id": "S7tZMCtQhEYX",
        "colab_type": "code",
        "colab": {}
      },
      "source": [
        ""
      ],
      "execution_count": 0,
      "outputs": []
    },
    {
      "cell_type": "code",
      "metadata": {
        "id": "qznOZXB0hLp3",
        "colab_type": "code",
        "colab": {}
      },
      "source": [
        ""
      ],
      "execution_count": 0,
      "outputs": []
    },
    {
      "cell_type": "markdown",
      "metadata": {
        "id": "YppcJFNQBxnY",
        "colab_type": "text"
      },
      "source": [
        "These are irrelavant sections just to do some experimentation"
      ]
    }
  ]
}